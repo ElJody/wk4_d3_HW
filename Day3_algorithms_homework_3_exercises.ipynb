{
 "cells": [
  {
   "cell_type": "markdown",
   "metadata": {},
   "source": [
    "## Binary Search Trees\n",
    "\n",
    "Linked list is to List as BST is to Dictionary"
   ]
  },
  {
   "cell_type": "code",
   "execution_count": 7,
   "metadata": {},
   "outputs": [
    {
     "name": "stdout",
     "output_type": "stream",
     "text": [
      "<bound method BST.get_max_value of <__main__.BST object at 0x7fd7a01cea00>>\n",
      "<bound method BST.get_min_value of <__main__.BST object at 0x7fd7a01cea00>>\n",
      "False\n",
      "False\n",
      "==========\n",
      "39\n"
     ]
    }
   ],
   "source": [
    "class BST():\n",
    "    def __init__(self, value):\n",
    "        self.value=value\n",
    "        self.left=None\n",
    "        self.right=None\n",
    "        \n",
    "    def insert(self, value):\n",
    "        if value < self.value:\n",
    "            if self.left is None:\n",
    "                self.left=BST(value)\n",
    "            else:\n",
    "                self.left.insert(value)\n",
    "        else:\n",
    "            if self.right is None:\n",
    "                self.right=BST(value)\n",
    "            else:\n",
    "                self.right.insert(value)\n",
    "        return self\n",
    "    \n",
    "    def contains(self, value):\n",
    "        if value <self.value:\n",
    "            if self.left is None:\n",
    "                return False\n",
    "            else:\n",
    "                return self.left.contains(value)\n",
    "        elif value >self.value:\n",
    "            if self.right is None:\n",
    "                return False\n",
    "            else:\n",
    "                return self.right.contains(value)\n",
    "        else:\n",
    "            return True\n",
    "            \n",
    "    def get_min_value(self):\n",
    "        if self.left is None:\n",
    "            return self.value\n",
    "        else:\n",
    "            return self.left.get_min_value()\n",
    "    \n",
    "    def get_max_value(self):\n",
    "        if self.right is None:\n",
    "            return self.value\n",
    "        else:\n",
    "            return self.right.get_max_value()\n",
    "        \n",
    "    def inorder(self, root):\n",
    "        if root:\n",
    "            self.inorder(root.left)\n",
    "            print(root.value)\n",
    "            self.inorder(root.right)\n",
    "            \n",
    "            \n",
    "bst_example =BST(39)\n",
    "bst_example.insert =BST(40)\n",
    "bst_example.insert =BST(43)\n",
    "bst_example.insert =BST(56)\n",
    "bst_example.insert =BST(33)\n",
    "bst_example.insert =BST(23)\n",
    "bst_example.insert =BST(12)\n",
    "bst_example.insert =BST(756)\n",
    "\n",
    "print(bst_example.get_max_value)\n",
    "print(bst_example.get_min_value)\n",
    "print(bst_example.contains(40))\n",
    "print(bst_example.contains(20))\n",
    "\n",
    "print('='*10)\n",
    "bst_example.inorder(bst_example)\n",
    "\n",
    "            "
   ]
  },
  {
   "cell_type": "code",
   "execution_count": null,
   "metadata": {},
   "outputs": [],
   "source": []
  },
  {
   "cell_type": "markdown",
   "metadata": {},
   "source": [
    "## In Class Exercise\n",
    "\n",
    "Invert a Binary Tree"
   ]
  },
  {
   "cell_type": "code",
   "execution_count": 11,
   "metadata": {},
   "outputs": [
    {
     "name": "stdout",
     "output_type": "stream",
     "text": [
      "756\n",
      "12\n",
      "True\n",
      "False\n",
      "==========\n",
      "12\n",
      "23\n",
      "33\n",
      "39\n",
      "40\n",
      "43\n",
      "56\n",
      "756\n"
     ]
    }
   ],
   "source": [
    "class BST():\n",
    "    def __init__(self,value):\n",
    "        self.value = value # Current Value\n",
    "        self.left = None\n",
    "        self.right = None\n",
    "    def insert(self,value):\n",
    "        if value < self.value:\n",
    "            if self.left is None:\n",
    "                self.left = BST(value)\n",
    "            else:\n",
    "                self.left.insert(value)\n",
    "        else:\n",
    "            if self.right is None:\n",
    "                self.right = BST(value)\n",
    "            else:\n",
    "                self.right.insert(value)\n",
    "        return self\n",
    "    def contains(self,value):\n",
    "        if value < self.value: # if passed value is less than current value\n",
    "            if self.left is None:\n",
    "                return False\n",
    "            else:\n",
    "                return self.left.contains(value)\n",
    "        elif value > self.value:\n",
    "            if self.right is None:\n",
    "                return False\n",
    "            else:\n",
    "                return self.right.contains(value)\n",
    "        else:\n",
    "            return True\n",
    "    def get_min_value(self):\n",
    "        if self.left is None:\n",
    "            return self.value\n",
    "        else:\n",
    "            return self.left.get_min_value()\n",
    "    def get_max_value(self):\n",
    "        if self.right is None:\n",
    "            return self.value\n",
    "        else:\n",
    "            return self.right.get_max_value()\n",
    "    def inorder(self, root):\n",
    "        if root:\n",
    "            self.inorder(root.left)\n",
    "            print(root.value)\n",
    "            self.inorder(root.right)\n",
    "            \n",
    "bst_example = BST(39)\n",
    "bst_example.insert(40)\n",
    "bst_example.insert(43)\n",
    "bst_example.insert(56)\n",
    "bst_example.insert(33)\n",
    "bst_example.insert(23)\n",
    "bst_example.insert(12)\n",
    "bst_example.insert(756)\n",
    "\n",
    "print(bst_example.get_max_value())\n",
    "print(bst_example.get_min_value())\n",
    "print(bst_example.contains(40))\n",
    "print(bst_example.contains(20))\n",
    "\n",
    "print('='*10)\n",
    "bst_example.inorder(bst_example)\n"
   ]
  },
  {
   "cell_type": "code",
   "execution_count": 12,
   "metadata": {},
   "outputs": [
    {
     "name": "stdout",
     "output_type": "stream",
     "text": [
      "756\n",
      "56\n",
      "43\n",
      "40\n",
      "39\n",
      "33\n",
      "23\n",
      "12\n"
     ]
    }
   ],
   "source": [
    "def invertTree(root):\n",
    "    if root:\n",
    "        invertTree(root.left)\n",
    "        invertTree(root.right)\n",
    "        root.left, root.right = root.right, root.left\n",
    "        \n",
    "invertTree(bst_example)\n",
    "\n",
    "bst_example.inorder(bst_example)"
   ]
  },
  {
   "cell_type": "code",
   "execution_count": null,
   "metadata": {},
   "outputs": [],
   "source": []
  },
  {
   "cell_type": "markdown",
   "metadata": {},
   "source": [
    "# Exercises"
   ]
  },
  {
   "cell_type": "markdown",
   "metadata": {},
   "source": [
    "### Exercise #1 <br>\n",
    "<p>Reverse the list below in-place using an in-place algorithm.<br>For extra credit: Reverse the strings at the same time.</p>"
   ]
  },
  {
   "cell_type": "code",
   "execution_count": 56,
   "metadata": {},
   "outputs": [
    {
     "data": {
      "text/plain": [
       "['.', 'sentence', 'a', 'is', 'this']"
      ]
     },
     "execution_count": 56,
     "metadata": {},
     "output_type": "execute_result"
    }
   ],
   "source": [
    "# Tried different variations like our inverted BST here and reverse_help\n",
    "# I'm pretty sure I'm doing something silly here I just can't see it...\n",
    "\n",
    "words = ['this' , 'is', 'a', 'sentence', '.']\n",
    "\n",
    "def rev_word(words):\n",
    "    list = []\n",
    "    left = 0\n",
    "    right = len(list) - 1\n",
    "\n",
    "    for l in words:\n",
    "        list.append(l)\n",
    "    while left <= right:\n",
    "        list[left], list[right] = list[right], list[left]\n",
    "        left += 1\n",
    "        right -= 1\n",
    "    return ''.join(list)\n",
    "    \n",
    "\n",
    "def reverse_help(alist):\n",
    "    left = 0\n",
    "    right = len(alist) - 1\n",
    "\n",
    "    while left <= right:\n",
    "        alist[left] = rev_word(alist[left])\n",
    "        alist[right] = rev_word(alist[right])\n",
    "\n",
    "#        reverse_help(alist[left])\n",
    "#        reverse_help(alist[right])\n",
    "#        alist[left] = reverse_help(alist[left])\n",
    "#        alist[right] = reverse_help(alist[right])\n",
    "        alist[left], alist[right] = alist[right], alist[left]\n",
    "        left += 1\n",
    "        right -= 1\n",
    "#    print(alist)\n",
    "    return alist\n",
    "#    return alist.reverse()\n",
    "# these produce same result with/without reverse...\n",
    "\n",
    "\n",
    "reverse_help(words)\n",
    "\n",
    "\n"
   ]
  },
  {
   "cell_type": "code",
   "execution_count": null,
   "metadata": {},
   "outputs": [],
   "source": []
  },
  {
   "cell_type": "code",
   "execution_count": null,
   "metadata": {},
   "outputs": [],
   "source": []
  },
  {
   "cell_type": "markdown",
   "metadata": {},
   "source": [
    "### Exercise #2 <br>\n",
    "<p>Create a function that counts how many distinct words are in the string below, then outputs a dictionary with the words as the key and the value as the amount of times that word appears in the string.<br>Should output:<br>{'a': 5,<br>\n",
    " 'abstract': 1,<br>\n",
    " 'an': 3,<br>\n",
    " 'array': 2, ... etc...</p>"
   ]
  },
  {
   "cell_type": "code",
   "execution_count": 36,
   "metadata": {},
   "outputs": [
    {
     "data": {
      "text/plain": [
       "{'in': 1,\n",
       " 'computing': 1,\n",
       " 'a': 5,\n",
       " 'hash': 4,\n",
       " 'table': 2,\n",
       " 'map': 2,\n",
       " 'is': 1,\n",
       " 'data': 2,\n",
       " 'structure': 2,\n",
       " 'which': 2,\n",
       " 'implements': 1,\n",
       " 'an': 3,\n",
       " 'associative': 1,\n",
       " 'array': 2,\n",
       " 'abstract': 1,\n",
       " 'type': 1,\n",
       " 'that': 1,\n",
       " 'can': 2,\n",
       " 'keys': 1,\n",
       " 'to': 2,\n",
       " 'values': 1,\n",
       " 'uses': 1,\n",
       " 'function': 1,\n",
       " 'compute': 1,\n",
       " 'index': 1,\n",
       " 'into': 1,\n",
       " 'of': 1,\n",
       " 'buckets': 1,\n",
       " 'or': 1,\n",
       " 'slots': 1,\n",
       " 'from': 1,\n",
       " 'the': 1,\n",
       " 'desired': 1,\n",
       " 'value': 1,\n",
       " 'be': 1,\n",
       " 'found': 1}"
      ]
     },
     "execution_count": 36,
     "metadata": {},
     "output_type": "execute_result"
    }
   ],
   "source": [
    "import re\n",
    "\n",
    "a_text = 'In computing, a hash table hash map is a data structure which implements an associative array abstract data type, a structure that can map keys to values. A hash table uses a hash function to compute an index into an array of buckets or slots from which the desired value can be found'\n",
    "\n",
    "def counting_words(string):\n",
    "        list = string.lower().split()\n",
    "        dict = {}\n",
    "        for word in list:\n",
    "            valid_word = re.sub(r'\\W', '', word)\n",
    "            if valid_word in dict:\n",
    "                dict[valid_word] += 1\n",
    "            else:\n",
    "                dict[valid_word] = 1\n",
    "        return dict\n",
    "\n",
    "counting_words(a_text)\n",
    "\n"
   ]
  },
  {
   "cell_type": "code",
   "execution_count": null,
   "metadata": {},
   "outputs": [],
   "source": []
  },
  {
   "cell_type": "markdown",
   "metadata": {},
   "source": [
    "## Exercise #3\n",
    "\n",
    "Write a program to implement a Linear Search Algorithm. Also in a comment, write the Time Complexity of the following algorithm.\n",
    "\n",
    "#### Hint: Linear Searching will require searching a list for a given number. "
   ]
  },
  {
   "cell_type": "code",
   "execution_count": 37,
   "metadata": {},
   "outputs": [
    {
     "data": {
      "text/plain": [
       "'Target number of 70 is at index 3 of the list'"
      ]
     },
     "execution_count": 37,
     "metadata": {},
     "output_type": "execute_result"
    }
   ],
   "source": [
    "nums_list = [10,23,45,70,11,15]\n",
    "target = 70\n",
    "\n",
    "def lin_search(alist, target):\n",
    "    n=0\n",
    "    for num in alist:\n",
    "        if num == target:\n",
    "            return f'Target number of {num} is at index {n} of the list'\n",
    "        n+=1\n",
    "    return -1\n",
    "\n",
    "lin_search(nums_list, target)\n",
    "\n",
    "# If number is not present return -1"
   ]
  },
  {
   "cell_type": "code",
   "execution_count": null,
   "metadata": {},
   "outputs": [],
   "source": []
  }
 ],
 "metadata": {
  "kernelspec": {
   "display_name": "Python 3 (ipykernel)",
   "language": "python",
   "name": "python3"
  },
  "language_info": {
   "codemirror_mode": {
    "name": "ipython",
    "version": 3
   },
   "file_extension": ".py",
   "mimetype": "text/x-python",
   "name": "python",
   "nbconvert_exporter": "python",
   "pygments_lexer": "ipython3",
   "version": "3.9.12"
  }
 },
 "nbformat": 4,
 "nbformat_minor": 2
}
